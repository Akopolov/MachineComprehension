{
 "cells": [
  {
   "cell_type": "code",
   "execution_count": 1,
   "metadata": {},
   "outputs": [
    {
     "name": "stdout",
     "output_type": "stream",
     "text": [
      "Better speed can be achieved with apex installed from https://www.github.com/nvidia/apex.\n"
     ]
    }
   ],
   "source": [
    "import os\n",
    "import json\n",
    "\n",
    "import pandas as pd\n",
    "import numpy as np\n",
    "import matplotlib.pyplot as plt\n",
    "\n",
    "from allennlp.predictors.predictor import Predictor"
   ]
  },
  {
   "cell_type": "code",
   "execution_count": 2,
   "metadata": {},
   "outputs": [],
   "source": [
    "%matplotlib inline"
   ]
  },
  {
   "cell_type": "code",
   "execution_count": 11,
   "metadata": {},
   "outputs": [
    {
     "data": {
      "text/plain": [
       "'Keanu Reeves, Laurence Fishburne, Carrie-Anne Moss, Hugo Weaving, and Joe Pantoliano'"
      ]
     },
     "execution_count": 11,
     "metadata": {},
     "output_type": "execute_result"
    }
   ],
   "source": [
    "predictor = Predictor.from_path(\"https://s3-us-west-2.amazonaws.com/allennlp/models/bidaf-model-2017.09.15-charpad.tar.gz\")\n",
    "predictor.predict(\n",
    "  passage=\"The Matrix is a 1999 science fiction action film written and directed by The Wachowskis, starring Keanu Reeves, Laurence Fishburne, Carrie-Anne Moss, Hugo Weaving, and Joe Pantoliano.\",\n",
    "  question=\"Who stars in The Matrix?\"\n",
    ")['best_span_str']"
   ]
  },
  {
   "cell_type": "markdown",
   "metadata": {},
   "source": [
    "# Gathering Results"
   ]
  },
  {
   "cell_type": "code",
   "execution_count": 3,
   "metadata": {},
   "outputs": [],
   "source": [
    "dir_list = ['base', 'base_gru', 'base_elmo', 'base_elmo_gru']\n",
    "metrics_file = 'metrics_epoch_{0}.json'"
   ]
  },
  {
   "cell_type": "code",
   "execution_count": 4,
   "metadata": {},
   "outputs": [],
   "source": [
    "results = {\n",
    "    'base' : [],\n",
    "    'base_gru' : [],\n",
    "    'base_elmo' : [],\n",
    "    'base_elmo_gru' : []\n",
    "}\n",
    "\n",
    "for dir_name in dir_list:\n",
    "    for i in range(20):\n",
    "        file_name = metrics_file.format(i)\n",
    "        if file_name in os.listdir(dir_name):\n",
    "            file_path = dir_name + '/' + file_name\n",
    "            with open(file_path, 'r') as f:\n",
    "                results[dir_name].append(json.load(f))"
   ]
  },
  {
   "cell_type": "markdown",
   "metadata": {},
   "source": [
    "# Last Epoch Results"
   ]
  },
  {
   "cell_type": "code",
   "execution_count": 5,
   "metadata": {},
   "outputs": [],
   "source": [
    "final_results = {}\n",
    "\n",
    "for key in results.keys():\n",
    "    \n",
    "    final_result = results[key][-1]\n",
    "    \n",
    "    if 'name' in final_results:\n",
    "        final_results['name'].append(key)\n",
    "    else:\n",
    "        final_results['name'] = [key]\n",
    "        \n",
    "    for value_key in final_result.keys():\n",
    "        if value_key in final_results:\n",
    "            final_results[value_key].append(final_result[value_key])\n",
    "        else:\n",
    "            final_results[value_key] = [final_result[value_key]]"
   ]
  },
  {
   "cell_type": "code",
   "execution_count": 6,
   "metadata": {},
   "outputs": [
    {
     "data": {
      "text/html": [
       "<div>\n",
       "<style scoped>\n",
       "    .dataframe tbody tr th:only-of-type {\n",
       "        vertical-align: middle;\n",
       "    }\n",
       "\n",
       "    .dataframe tbody tr th {\n",
       "        vertical-align: top;\n",
       "    }\n",
       "\n",
       "    .dataframe thead th {\n",
       "        text-align: right;\n",
       "    }\n",
       "</style>\n",
       "<table border=\"1\" class=\"dataframe\">\n",
       "  <thead>\n",
       "    <tr style=\"text-align: right;\">\n",
       "      <th></th>\n",
       "      <th>base</th>\n",
       "      <th>base_gru</th>\n",
       "      <th>base_elmo</th>\n",
       "      <th>base_elmo_gru</th>\n",
       "    </tr>\n",
       "  </thead>\n",
       "  <tbody>\n",
       "    <tr>\n",
       "      <th>best_epoch</th>\n",
       "      <td>6</td>\n",
       "      <td>17</td>\n",
       "      <td>4</td>\n",
       "      <td>4</td>\n",
       "    </tr>\n",
       "    <tr>\n",
       "      <th>peak_cpu_memory_MB</th>\n",
       "      <td>7640.46</td>\n",
       "      <td>7638.65</td>\n",
       "      <td>37796.1</td>\n",
       "      <td>37795.9</td>\n",
       "    </tr>\n",
       "    <tr>\n",
       "      <th>peak_gpu_0_memory_MB</th>\n",
       "      <td>8895</td>\n",
       "      <td>8591</td>\n",
       "      <td>1179</td>\n",
       "      <td>1179</td>\n",
       "    </tr>\n",
       "    <tr>\n",
       "      <th>training_duration</th>\n",
       "      <td>02:53:02</td>\n",
       "      <td>03:29:02</td>\n",
       "      <td>07:28:29</td>\n",
       "      <td>07:26:08</td>\n",
       "    </tr>\n",
       "    <tr>\n",
       "      <th>training_start_epoch</th>\n",
       "      <td>0</td>\n",
       "      <td>0</td>\n",
       "      <td>0</td>\n",
       "      <td>0</td>\n",
       "    </tr>\n",
       "    <tr>\n",
       "      <th>training_epochs</th>\n",
       "      <td>15</td>\n",
       "      <td>19</td>\n",
       "      <td>13</td>\n",
       "      <td>13</td>\n",
       "    </tr>\n",
       "    <tr>\n",
       "      <th>epoch</th>\n",
       "      <td>15</td>\n",
       "      <td>19</td>\n",
       "      <td>13</td>\n",
       "      <td>13</td>\n",
       "    </tr>\n",
       "    <tr>\n",
       "      <th>training_start_acc</th>\n",
       "      <td>0.803879</td>\n",
       "      <td>0.771276</td>\n",
       "      <td>0.949577</td>\n",
       "      <td>0.948732</td>\n",
       "    </tr>\n",
       "    <tr>\n",
       "      <th>training_end_acc</th>\n",
       "      <td>0.856254</td>\n",
       "      <td>0.816699</td>\n",
       "      <td>0.953253</td>\n",
       "      <td>0.950525</td>\n",
       "    </tr>\n",
       "    <tr>\n",
       "      <th>training_span_acc</th>\n",
       "      <td>0.728901</td>\n",
       "      <td>0.681115</td>\n",
       "      <td>0.916494</td>\n",
       "      <td>0.914052</td>\n",
       "    </tr>\n",
       "    <tr>\n",
       "      <th>training_em</th>\n",
       "      <td>0.782897</td>\n",
       "      <td>0.738992</td>\n",
       "      <td>0.931963</td>\n",
       "      <td>0.929303</td>\n",
       "    </tr>\n",
       "    <tr>\n",
       "      <th>training_f1</th>\n",
       "      <td>0.892252</td>\n",
       "      <td>0.866134</td>\n",
       "      <td>0.966307</td>\n",
       "      <td>0.965019</td>\n",
       "    </tr>\n",
       "    <tr>\n",
       "      <th>training_loss</th>\n",
       "      <td>1.02242</td>\n",
       "      <td>1.29375</td>\n",
       "      <td>0.285536</td>\n",
       "      <td>0.316807</td>\n",
       "    </tr>\n",
       "    <tr>\n",
       "      <th>training_cpu_memory_MB</th>\n",
       "      <td>7640.46</td>\n",
       "      <td>7638.65</td>\n",
       "      <td>37796.1</td>\n",
       "      <td>37795.9</td>\n",
       "    </tr>\n",
       "    <tr>\n",
       "      <th>training_gpu_0_memory_MB</th>\n",
       "      <td>8895</td>\n",
       "      <td>8591</td>\n",
       "      <td>1179</td>\n",
       "      <td>1179</td>\n",
       "    </tr>\n",
       "    <tr>\n",
       "      <th>validation_start_acc</th>\n",
       "      <td>0.619962</td>\n",
       "      <td>0.621476</td>\n",
       "      <td>0.635383</td>\n",
       "      <td>0.627531</td>\n",
       "    </tr>\n",
       "    <tr>\n",
       "      <th>validation_end_acc</th>\n",
       "      <td>0.652412</td>\n",
       "      <td>0.655061</td>\n",
       "      <td>0.679943</td>\n",
       "      <td>0.668401</td>\n",
       "    </tr>\n",
       "    <tr>\n",
       "      <th>validation_span_acc</th>\n",
       "      <td>0.529234</td>\n",
       "      <td>0.535478</td>\n",
       "      <td>0.545506</td>\n",
       "      <td>0.536424</td>\n",
       "    </tr>\n",
       "    <tr>\n",
       "      <th>validation_em</th>\n",
       "      <td>0.656481</td>\n",
       "      <td>0.659508</td>\n",
       "      <td>0.680416</td>\n",
       "      <td>0.678051</td>\n",
       "    </tr>\n",
       "    <tr>\n",
       "      <th>validation_f1</th>\n",
       "      <td>0.759882</td>\n",
       "      <td>0.759748</td>\n",
       "      <td>0.786778</td>\n",
       "      <td>0.782082</td>\n",
       "    </tr>\n",
       "    <tr>\n",
       "      <th>validation_loss</th>\n",
       "      <td>3.30719</td>\n",
       "      <td>3.04273</td>\n",
       "      <td>4.33326</td>\n",
       "      <td>3.89208</td>\n",
       "    </tr>\n",
       "    <tr>\n",
       "      <th>best_validation_start_acc</th>\n",
       "      <td>0.631599</td>\n",
       "      <td>0.623084</td>\n",
       "      <td>0.662441</td>\n",
       "      <td>0.664522</td>\n",
       "    </tr>\n",
       "    <tr>\n",
       "      <th>best_validation_end_acc</th>\n",
       "      <td>0.670577</td>\n",
       "      <td>0.660833</td>\n",
       "      <td>0.695932</td>\n",
       "      <td>0.69281</td>\n",
       "    </tr>\n",
       "    <tr>\n",
       "      <th>best_validation_span_acc</th>\n",
       "      <td>0.544655</td>\n",
       "      <td>0.539357</td>\n",
       "      <td>0.570672</td>\n",
       "      <td>0.56878</td>\n",
       "    </tr>\n",
       "    <tr>\n",
       "      <th>best_validation_em</th>\n",
       "      <td>0.673321</td>\n",
       "      <td>0.663198</td>\n",
       "      <td>0.709366</td>\n",
       "      <td>0.706055</td>\n",
       "    </tr>\n",
       "    <tr>\n",
       "      <th>best_validation_f1</th>\n",
       "      <td>0.769303</td>\n",
       "      <td>0.76333</td>\n",
       "      <td>0.803151</td>\n",
       "      <td>0.801319</td>\n",
       "    </tr>\n",
       "    <tr>\n",
       "      <th>best_validation_loss</th>\n",
       "      <td>2.50305</td>\n",
       "      <td>2.96051</td>\n",
       "      <td>2.2579</td>\n",
       "      <td>2.26797</td>\n",
       "    </tr>\n",
       "  </tbody>\n",
       "</table>\n",
       "</div>"
      ],
      "text/plain": [
       "                               base  base_gru base_elmo base_elmo_gru\n",
       "best_epoch                        6        17         4             4\n",
       "peak_cpu_memory_MB          7640.46   7638.65   37796.1       37795.9\n",
       "peak_gpu_0_memory_MB           8895      8591      1179          1179\n",
       "training_duration          02:53:02  03:29:02  07:28:29      07:26:08\n",
       "training_start_epoch              0         0         0             0\n",
       "training_epochs                  15        19        13            13\n",
       "epoch                            15        19        13            13\n",
       "training_start_acc         0.803879  0.771276  0.949577      0.948732\n",
       "training_end_acc           0.856254  0.816699  0.953253      0.950525\n",
       "training_span_acc          0.728901  0.681115  0.916494      0.914052\n",
       "training_em                0.782897  0.738992  0.931963      0.929303\n",
       "training_f1                0.892252  0.866134  0.966307      0.965019\n",
       "training_loss               1.02242   1.29375  0.285536      0.316807\n",
       "training_cpu_memory_MB      7640.46   7638.65   37796.1       37795.9\n",
       "training_gpu_0_memory_MB       8895      8591      1179          1179\n",
       "validation_start_acc       0.619962  0.621476  0.635383      0.627531\n",
       "validation_end_acc         0.652412  0.655061  0.679943      0.668401\n",
       "validation_span_acc        0.529234  0.535478  0.545506      0.536424\n",
       "validation_em              0.656481  0.659508  0.680416      0.678051\n",
       "validation_f1              0.759882  0.759748  0.786778      0.782082\n",
       "validation_loss             3.30719   3.04273   4.33326       3.89208\n",
       "best_validation_start_acc  0.631599  0.623084  0.662441      0.664522\n",
       "best_validation_end_acc    0.670577  0.660833  0.695932       0.69281\n",
       "best_validation_span_acc   0.544655  0.539357  0.570672       0.56878\n",
       "best_validation_em         0.673321  0.663198  0.709366      0.706055\n",
       "best_validation_f1         0.769303   0.76333  0.803151      0.801319\n",
       "best_validation_loss        2.50305   2.96051    2.2579       2.26797"
      ]
     },
     "execution_count": 6,
     "metadata": {},
     "output_type": "execute_result"
    }
   ],
   "source": [
    "final_df = pd.DataFrame.from_dict(final_results, orient='index')\n",
    "final_df.columns = final_results['name']\n",
    "final_df = final_df.drop('name')\n",
    "final_df"
   ]
  },
  {
   "cell_type": "markdown",
   "metadata": {},
   "source": [
    "# Best Results"
   ]
  },
  {
   "cell_type": "code",
   "execution_count": 7,
   "metadata": {},
   "outputs": [],
   "source": [
    "best_results = {}\n",
    "\n",
    "for key in results.keys():\n",
    "    \n",
    "    best_result = results[key][results[key][-1]['best_epoch']]\n",
    "    \n",
    "    if 'name' in best_results:\n",
    "        best_results['name'].append(key)\n",
    "    else:\n",
    "        best_results['name'] = [key]\n",
    "        \n",
    "    for value_key in best_result.keys():\n",
    "        if value_key in best_results:\n",
    "            best_results[value_key].append(best_result[value_key])\n",
    "        else:\n",
    "            best_results[value_key] = [best_result[value_key]]"
   ]
  },
  {
   "cell_type": "code",
   "execution_count": 8,
   "metadata": {},
   "outputs": [
    {
     "data": {
      "text/html": [
       "<div>\n",
       "<style scoped>\n",
       "    .dataframe tbody tr th:only-of-type {\n",
       "        vertical-align: middle;\n",
       "    }\n",
       "\n",
       "    .dataframe tbody tr th {\n",
       "        vertical-align: top;\n",
       "    }\n",
       "\n",
       "    .dataframe thead th {\n",
       "        text-align: right;\n",
       "    }\n",
       "</style>\n",
       "<table border=\"1\" class=\"dataframe\">\n",
       "  <thead>\n",
       "    <tr style=\"text-align: right;\">\n",
       "      <th></th>\n",
       "      <th>base</th>\n",
       "      <th>base_gru</th>\n",
       "      <th>base_elmo</th>\n",
       "      <th>base_elmo_gru</th>\n",
       "    </tr>\n",
       "  </thead>\n",
       "  <tbody>\n",
       "    <tr>\n",
       "      <th>best_epoch</th>\n",
       "      <td>6</td>\n",
       "      <td>17</td>\n",
       "      <td>4</td>\n",
       "      <td>4</td>\n",
       "    </tr>\n",
       "    <tr>\n",
       "      <th>peak_cpu_memory_MB</th>\n",
       "      <td>7637.37</td>\n",
       "      <td>7638.65</td>\n",
       "      <td>37794.4</td>\n",
       "      <td>37794.6</td>\n",
       "    </tr>\n",
       "    <tr>\n",
       "      <th>peak_gpu_0_memory_MB</th>\n",
       "      <td>8895</td>\n",
       "      <td>8591</td>\n",
       "      <td>1179</td>\n",
       "      <td>1179</td>\n",
       "    </tr>\n",
       "    <tr>\n",
       "      <th>training_duration</th>\n",
       "      <td>01:17:11</td>\n",
       "      <td>03:08:19</td>\n",
       "      <td>02:43:07</td>\n",
       "      <td>02:42:11</td>\n",
       "    </tr>\n",
       "    <tr>\n",
       "      <th>training_start_epoch</th>\n",
       "      <td>0</td>\n",
       "      <td>0</td>\n",
       "      <td>0</td>\n",
       "      <td>0</td>\n",
       "    </tr>\n",
       "    <tr>\n",
       "      <th>training_epochs</th>\n",
       "      <td>6</td>\n",
       "      <td>17</td>\n",
       "      <td>4</td>\n",
       "      <td>4</td>\n",
       "    </tr>\n",
       "    <tr>\n",
       "      <th>epoch</th>\n",
       "      <td>6</td>\n",
       "      <td>17</td>\n",
       "      <td>4</td>\n",
       "      <td>4</td>\n",
       "    </tr>\n",
       "    <tr>\n",
       "      <th>training_start_acc</th>\n",
       "      <td>0.66833</td>\n",
       "      <td>0.75897</td>\n",
       "      <td>0.70873</td>\n",
       "      <td>0.716618</td>\n",
       "    </tr>\n",
       "    <tr>\n",
       "      <th>training_end_acc</th>\n",
       "      <td>0.714392</td>\n",
       "      <td>0.80542</td>\n",
       "      <td>0.749803</td>\n",
       "      <td>0.758251</td>\n",
       "    </tr>\n",
       "    <tr>\n",
       "      <th>training_span_acc</th>\n",
       "      <td>0.572267</td>\n",
       "      <td>0.667462</td>\n",
       "      <td>0.616069</td>\n",
       "      <td>0.620658</td>\n",
       "    </tr>\n",
       "    <tr>\n",
       "      <th>training_em</th>\n",
       "      <td>0.631537</td>\n",
       "      <td>0.725933</td>\n",
       "      <td>0.674117</td>\n",
       "      <td>0.681549</td>\n",
       "    </tr>\n",
       "    <tr>\n",
       "      <th>training_f1</th>\n",
       "      <td>0.771499</td>\n",
       "      <td>0.855908</td>\n",
       "      <td>0.804879</td>\n",
       "      <td>0.814661</td>\n",
       "    </tr>\n",
       "    <tr>\n",
       "      <th>training_loss</th>\n",
       "      <td>2.0823</td>\n",
       "      <td>1.38259</td>\n",
       "      <td>1.78249</td>\n",
       "      <td>1.71767</td>\n",
       "    </tr>\n",
       "    <tr>\n",
       "      <th>training_cpu_memory_MB</th>\n",
       "      <td>7637.37</td>\n",
       "      <td>7638.65</td>\n",
       "      <td>37794.4</td>\n",
       "      <td>37794.6</td>\n",
       "    </tr>\n",
       "    <tr>\n",
       "      <th>training_gpu_0_memory_MB</th>\n",
       "      <td>8895</td>\n",
       "      <td>8591</td>\n",
       "      <td>1179</td>\n",
       "      <td>1179</td>\n",
       "    </tr>\n",
       "    <tr>\n",
       "      <th>validation_start_acc</th>\n",
       "      <td>0.631599</td>\n",
       "      <td>0.623084</td>\n",
       "      <td>0.662441</td>\n",
       "      <td>0.664522</td>\n",
       "    </tr>\n",
       "    <tr>\n",
       "      <th>validation_end_acc</th>\n",
       "      <td>0.670577</td>\n",
       "      <td>0.660833</td>\n",
       "      <td>0.695932</td>\n",
       "      <td>0.69281</td>\n",
       "    </tr>\n",
       "    <tr>\n",
       "      <th>validation_span_acc</th>\n",
       "      <td>0.544655</td>\n",
       "      <td>0.539357</td>\n",
       "      <td>0.570672</td>\n",
       "      <td>0.56878</td>\n",
       "    </tr>\n",
       "    <tr>\n",
       "      <th>validation_em</th>\n",
       "      <td>0.673321</td>\n",
       "      <td>0.663198</td>\n",
       "      <td>0.709366</td>\n",
       "      <td>0.706055</td>\n",
       "    </tr>\n",
       "    <tr>\n",
       "      <th>validation_f1</th>\n",
       "      <td>0.769303</td>\n",
       "      <td>0.76333</td>\n",
       "      <td>0.803151</td>\n",
       "      <td>0.801319</td>\n",
       "    </tr>\n",
       "    <tr>\n",
       "      <th>validation_loss</th>\n",
       "      <td>2.50305</td>\n",
       "      <td>2.96051</td>\n",
       "      <td>2.2579</td>\n",
       "      <td>2.26797</td>\n",
       "    </tr>\n",
       "    <tr>\n",
       "      <th>best_validation_start_acc</th>\n",
       "      <td>0.631599</td>\n",
       "      <td>0.623084</td>\n",
       "      <td>0.662441</td>\n",
       "      <td>0.664522</td>\n",
       "    </tr>\n",
       "    <tr>\n",
       "      <th>best_validation_end_acc</th>\n",
       "      <td>0.670577</td>\n",
       "      <td>0.660833</td>\n",
       "      <td>0.695932</td>\n",
       "      <td>0.69281</td>\n",
       "    </tr>\n",
       "    <tr>\n",
       "      <th>best_validation_span_acc</th>\n",
       "      <td>0.544655</td>\n",
       "      <td>0.539357</td>\n",
       "      <td>0.570672</td>\n",
       "      <td>0.56878</td>\n",
       "    </tr>\n",
       "    <tr>\n",
       "      <th>best_validation_em</th>\n",
       "      <td>0.673321</td>\n",
       "      <td>0.663198</td>\n",
       "      <td>0.709366</td>\n",
       "      <td>0.706055</td>\n",
       "    </tr>\n",
       "    <tr>\n",
       "      <th>best_validation_f1</th>\n",
       "      <td>0.769303</td>\n",
       "      <td>0.76333</td>\n",
       "      <td>0.803151</td>\n",
       "      <td>0.801319</td>\n",
       "    </tr>\n",
       "    <tr>\n",
       "      <th>best_validation_loss</th>\n",
       "      <td>2.50305</td>\n",
       "      <td>2.96051</td>\n",
       "      <td>2.2579</td>\n",
       "      <td>2.26797</td>\n",
       "    </tr>\n",
       "  </tbody>\n",
       "</table>\n",
       "</div>"
      ],
      "text/plain": [
       "                               base  base_gru base_elmo base_elmo_gru\n",
       "best_epoch                        6        17         4             4\n",
       "peak_cpu_memory_MB          7637.37   7638.65   37794.4       37794.6\n",
       "peak_gpu_0_memory_MB           8895      8591      1179          1179\n",
       "training_duration          01:17:11  03:08:19  02:43:07      02:42:11\n",
       "training_start_epoch              0         0         0             0\n",
       "training_epochs                   6        17         4             4\n",
       "epoch                             6        17         4             4\n",
       "training_start_acc          0.66833   0.75897   0.70873      0.716618\n",
       "training_end_acc           0.714392   0.80542  0.749803      0.758251\n",
       "training_span_acc          0.572267  0.667462  0.616069      0.620658\n",
       "training_em                0.631537  0.725933  0.674117      0.681549\n",
       "training_f1                0.771499  0.855908  0.804879      0.814661\n",
       "training_loss                2.0823   1.38259   1.78249       1.71767\n",
       "training_cpu_memory_MB      7637.37   7638.65   37794.4       37794.6\n",
       "training_gpu_0_memory_MB       8895      8591      1179          1179\n",
       "validation_start_acc       0.631599  0.623084  0.662441      0.664522\n",
       "validation_end_acc         0.670577  0.660833  0.695932       0.69281\n",
       "validation_span_acc        0.544655  0.539357  0.570672       0.56878\n",
       "validation_em              0.673321  0.663198  0.709366      0.706055\n",
       "validation_f1              0.769303   0.76333  0.803151      0.801319\n",
       "validation_loss             2.50305   2.96051    2.2579       2.26797\n",
       "best_validation_start_acc  0.631599  0.623084  0.662441      0.664522\n",
       "best_validation_end_acc    0.670577  0.660833  0.695932       0.69281\n",
       "best_validation_span_acc   0.544655  0.539357  0.570672       0.56878\n",
       "best_validation_em         0.673321  0.663198  0.709366      0.706055\n",
       "best_validation_f1         0.769303   0.76333  0.803151      0.801319\n",
       "best_validation_loss        2.50305   2.96051    2.2579       2.26797"
      ]
     },
     "execution_count": 8,
     "metadata": {},
     "output_type": "execute_result"
    }
   ],
   "source": [
    "best_df = pd.DataFrame.from_dict(best_results, orient='index')\n",
    "best_df.columns = best_results['name']\n",
    "best_df = best_df.drop('name')\n",
    "best_df"
   ]
  },
  {
   "cell_type": "markdown",
   "metadata": {},
   "source": [
    "# Overall Results"
   ]
  },
  {
   "cell_type": "code",
   "execution_count": 9,
   "metadata": {},
   "outputs": [],
   "source": [
    "def get_results(values_name):\n",
    "    return_map = {}\n",
    "    for model_name in dir_list:\n",
    "        return_map[model_name] = {}\n",
    "        \n",
    "        for value_name in values_name:\n",
    "            return_map[model_name][value_name] = []\n",
    "            \n",
    "            for result in results[model_name]:\n",
    "                return_map[model_name][value_name].append(result[value_name])\n",
    "            \n",
    "    return return_map"
   ]
  },
  {
   "cell_type": "code",
   "execution_count": 16,
   "metadata": {},
   "outputs": [],
   "source": [
    "overall_results = get_results(['validation_loss', 'training_loss'])"
   ]
  },
  {
   "cell_type": "code",
   "execution_count": 17,
   "metadata": {},
   "outputs": [],
   "source": [
    "plt.rcParams[\"figure.figsize\"]= (15,6)"
   ]
  },
  {
   "cell_type": "markdown",
   "metadata": {},
   "source": [
    "# Base"
   ]
  },
  {
   "cell_type": "code",
   "execution_count": 18,
   "metadata": {},
   "outputs": [
    {
     "data": {
      "image/png": "[encoded data removed]",
      "text/plain": [
       "<Figure size 1080x432 with 1 Axes>"
      ]
     },
     "metadata": {
      "needs_background": "light"
     },
     "output_type": "display_data"
    }
   ],
   "source": [
    "values = overall_results['base']\n",
    "min_e = 1\n",
    "max_e = len(values[list(values.keys())[0]]) + 1\n",
    "r = range(min_e, max_e)\n",
    "\n",
    "leg = []\n",
    "\n",
    "for key in values.keys():\n",
    "    plt.plot(r, values[key])\n",
    "    leg.append(key)\n",
    "    \n",
    "plt.axvline(x=best_df['base']['best_epoch'], color='g', linestyle='--', linewidth=3.0)\n",
    "leg.append('best epoch')\n",
    "    \n",
    "plt.legend(leg, loc='upper right')\n",
    "plt.xlabel('Epoch')\n",
    "plt.ylabel('Loss')\n",
    "plt.grid(True)\n",
    "plt.xticks(np.arange(min_e, max_e, step=1))\n",
    "plt.show()"
   ]
  },
  {
   "cell_type": "markdown",
   "metadata": {},
   "source": [
    "# Base + Elmo"
   ]
  },
  {
   "cell_type": "code",
   "execution_count": 19,
   "metadata": {},
   "outputs": [
    {
     "data": {
      "image/png": "[encoded data removed]",
      "text/plain": [
       "<Figure size 1080x432 with 1 Axes>"
      ]
     },
     "metadata": {
      "needs_background": "light"
     },
     "output_type": "display_data"
    }
   ],
   "source": [
    "values = overall_results['base_elmo']\n",
    "min_e = 1\n",
    "max_e = len(values[list(values.keys())[0]]) + 1\n",
    "r = range(min_e, max_e)\n",
    "\n",
    "leg = []\n",
    "\n",
    "for key in values.keys():\n",
    "    plt.plot(r, values[key])\n",
    "    leg.append(key)\n",
    "    \n",
    "plt.axvline(x=best_df['base_elmo']['best_epoch'], color='g', linestyle='--', linewidth=3.0)\n",
    "leg.append('best epoch')\n",
    "    \n",
    "plt.legend(leg, loc='upper right')\n",
    "plt.xlabel('Epoch')\n",
    "plt.ylabel('Loss')\n",
    "plt.grid(True)\n",
    "plt.xticks(np.arange(min_e, max_e, step=1))\n",
    "plt.show()"
   ]
  },
  {
   "cell_type": "markdown",
   "metadata": {},
   "source": [
    "# Base gru"
   ]
  },
  {
   "cell_type": "code",
   "execution_count": 20,
   "metadata": {
    "scrolled": false
   },
   "outputs": [
    {
     "data": {
      "image/png": "[encoded data removed]",
      "text/plain": [
       "<Figure size 1080x432 with 1 Axes>"
      ]
     },
     "metadata": {
      "needs_background": "light"
     },
     "output_type": "display_data"
    }
   ],
   "source": [
    "values = overall_results['base_gru']\n",
    "min_e = 1\n",
    "max_e = len(values[list(values.keys())[0]]) + 1\n",
    "r = range(min_e, max_e)\n",
    "\n",
    "leg = []\n",
    "\n",
    "for key in values.keys():\n",
    "    plt.plot(r, values[key])\n",
    "    leg.append(key)\n",
    "    \n",
    "plt.axvline(x=best_df['base_gru']['best_epoch'], color='g', linestyle='--', linewidth=3.0)\n",
    "leg.append('best epoch')\n",
    "    \n",
    "plt.legend(leg, loc='upper right')\n",
    "plt.xlabel('Epoch')\n",
    "plt.ylabel('Loss')\n",
    "plt.grid(True)\n",
    "plt.xticks(np.arange(min_e, max_e, step=1))\n",
    "plt.show()"
   ]
  },
  {
   "cell_type": "markdown",
   "metadata": {},
   "source": [
    "# Base gru + Elmo"
   ]
  },
  {
   "cell_type": "code",
   "execution_count": 21,
   "metadata": {},
   "outputs": [
    {
     "data": {
      "image/png": "[encoded data removed]",
      "text/plain": [
       "<Figure size 1080x432 with 1 Axes>"
      ]
     },
     "metadata": {
      "needs_background": "light"
     },
     "output_type": "display_data"
    }
   ],
   "source": [
    "values = overall_results['base_elmo_gru']\n",
    "min_e = 1\n",
    "max_e = len(values[list(values.keys())[0]]) + 1\n",
    "r = range(min_e, max_e)\n",
    "\n",
    "leg = []\n",
    "\n",
    "for key in values.keys():\n",
    "    plt.plot(r, values[key])\n",
    "    leg.append(key)\n",
    "    \n",
    "plt.axvline(x=best_df['base_elmo_gru']['best_epoch'], color='g', linestyle='--', linewidth=3.0)\n",
    "leg.append('best epoch')\n",
    "    \n",
    "plt.legend(leg, loc='upper right')\n",
    "plt.xlabel('Epoch')\n",
    "plt.ylabel('Loss')\n",
    "plt.grid(True)\n",
    "plt.xticks(np.arange(min_e, max_e, step=1))\n",
    "plt.show()"
   ]
  },
  {
   "cell_type": "markdown",
   "metadata": {},
   "source": [
    "# Prediction"
   ]
  },
  {
   "cell_type": "code",
   "execution_count": 104,
   "metadata": {},
   "outputs": [],
   "source": [
    "passage = (\"Count Lev Nikolayevich Tolstoy, was a Russian writer who is regarded as\" + \n",
    "           \" one of the greatest authors of all time. He received multiple nominations\" +\n",
    "           \" for Nobel Prize in Literature every year from 1902 to 1906.\" + \n",
    "           \" In the 1870s Tolstoy experienced a profound moral crisis, followed by what\" + \n",
    "           \" he regarded as an 'equally profound spiritual awakening'.\" + \n",
    "           \" Tolstoy is best known for his two longest works,\" + \n",
    "           \" 'War and Peace' and 'Anna Karenina', which are commonly regarded as\" + \n",
    "           \" among the finest novels ever written.\" + \n",
    "           \" Among Tolstoy’s shorter works, 'The Death of Ivan Ilyich' is usually\" +\n",
    "           \" classed among the best examples of the novella. Especially during his\" + \n",
    "           \" last three decades Tolstoy also achieved world renown as a moral and religious teacher.\")\n",
    "\n",
    "questions = [\n",
    "    \"What did Tolstoy won in 1904?\",\n",
    "    \"Who is Lev Tolstoy?\",\n",
    "    \"Who is the greatest Russian writer?\",\n",
    "    \"What happened to Tolstoy in 1870s?\",\n",
    "    \"What are Tolstoys works?\",\n",
    "    \"What did tolstoy accomplish in october 1859?\"\n",
    "]"
   ]
  },
  {
   "cell_type": "code",
   "execution_count": 105,
   "metadata": {},
   "outputs": [
    {
     "name": "stdout",
     "output_type": "stream",
     "text": [
      "Question: What did Tolstoy won in 1904?\n",
      "Anwser: Otrochestvo (1854; Boyhood) and Yunost\n",
      "\n",
      "Question: Who is Lev Tolstoy?\n",
      "Anwser: his wife\n",
      "\n",
      "Question: Who is the greatest Russian writer?\n",
      "Anwser: Tolstoy\n",
      "\n",
      "Question: What happened to Tolstoy in 1870s?\n",
      "Anwser: kept his diaries throughout his life\n",
      "\n",
      "Question: What are Tolstoys works?\n",
      "Anwser: Progress i opredeleniye obrazovaniya” (“Progress and the Definition of Education\n",
      "\n",
      "Question: What did tolstoy accomplish in october 1859?\n",
      "Anwser: Tri smerti” (1859; “Three Deaths”) describes the deaths of a noblewoman who cannot face the fact that she is dying, of a peasant who accepts death simply, and, at last, of a tree, whose utterly natural end contrasts with human artifice. Only the author’s transcendent consciousness unites these three events. “Kholstomer” (written 1863; revised and published 1886; “Kholstomer: The Story of a Horse”) has become famous for its dramatic use of a favourite Tolstoyan device, “defamiliarization”—that is, the description of familiar social practices from the “naive” perspective of an observer who does not take them for granted. Readers were shocked to discover that the protagonist and principal narrator of “Kholstomer” was an old horse. Like so many of Tolstoy’s early works, this story satirizes the artifice and conventionality of human society, a theme that also dominates Tolstoy’s novel Kazaki (1863; The Cossacks). The hero of this work, the dissolute and self-centred aristocrat Dmitry Olenin, enlists as a cadet to serve in the Caucasus. Living among the Cossacks, he comes to appreciate a life more in touch with natural and biological rhythms. In the novel’s central scene, Olenin, hunting in the woods, senses that every living creature, even a mosquito, “is just such a separate Dmitry Olenin as I am myself.” Recognizing the futility of his past life, he resolves to live entirely for others.\n",
      "The Period Of The Great Novels (1863–77)Happily married and ensconced with his wife and family at Yasnaya Polyana, Tolstoy reached the height of his creative powers\n",
      "\n"
     ]
    }
   ],
   "source": [
    "predictor = Predictor.from_path('base')\n",
    "for q in questions:\n",
    "    a = predictor.predict(passage=passage, question=q)['best_span_str']\n",
    "    print(\"Question: {0}\\nAnwser: {1}\\n\".format(q, a))"
   ]
  },
  {
   "cell_type": "code",
   "execution_count": 106,
   "metadata": {},
   "outputs": [
    {
     "name": "stdout",
     "output_type": "stream",
     "text": [
      "Question: What did Tolstoy won in 1904?\n",
      "Anwser: the height of his creative powers\n",
      "\n",
      "Question: Who is Lev Tolstoy?\n",
      "Anwser: his wife\n",
      "\n",
      "Question: Who is the greatest Russian writer?\n",
      "Anwser: Jean-Jacques Rousseau\n",
      "\n",
      "Question: What happened to Tolstoy in 1870s?\n",
      "Anwser: experimented with new forms for expressing his moral and philosophical concerns\n",
      "\n",
      "Question: What are Tolstoys works?\n",
      "Anwser: The Story of a Horse\n",
      "\n",
      "Question: What did tolstoy accomplish in october 1859?\n",
      "Anwser: soon transferred all his energies to his marriage and the composition of War and Peace\n",
      "\n"
     ]
    }
   ],
   "source": [
    "predictor = Predictor.from_path('base_gru')\n",
    "for q in questions:\n",
    "    a = predictor.predict(passage=passage, question=q)['best_span_str']\n",
    "    print(\"Question: {0}\\nAnwser: {1}\\n\".format(q, a))"
   ]
  },
  {
   "cell_type": "code",
   "execution_count": 95,
   "metadata": {},
   "outputs": [
    {
     "name": "stderr",
     "output_type": "stream",
     "text": [
      "WARNING:allennlp.models.archival:Archived file base_elmo/fta/model.text_field_embedder.token_embedders.elmo.options_file not found! At train time this file was located at /home/aleksei.kopolov/.allennlp/cache/1b18dd09179ba1bd92d0f4aa8a4089152c7ec97f14abfbad7052a443c5695047.15c465f454169b1ddb0b7f0d48dca2484f5b3350e81e870a0c3a797233eaac66. This may be because you are loading a serialization directory. Attempting to load the file from its train-time location.\n",
      "WARNING:allennlp.models.archival:Archived file base_elmo/fta/model.text_field_embedder.token_embedders.elmo.weight_file not found! At train time this file was located at /home/aleksei.kopolov/.allennlp/cache/c80e0cc2f7021815b01b9b2f47526804cedc186e3f2f1622b4537169ff759ce9.e6623c55f61b49e14a2ef0881ac5dbe85b2bfe9fb014760bc706855d4f7f48b7. This may be because you are loading a serialization directory. Attempting to load the file from its train-time location.\n"
     ]
    },
    {
     "name": "stdout",
     "output_type": "stream",
     "text": [
      "Question: What did Tolstoy won in 1904?\n",
      "Anwser: Nobel Prize in Literature\n",
      "\n",
      "Question: Who is Lev Tolstoy?\n",
      "Anwser: Count Lev Nikolayevich Tolstoy, was a Russian writer\n",
      "\n",
      "Question: Who is the greatest Russian writer?\n",
      "Anwser: Lev Nikolayevich Tolstoy\n",
      "\n",
      "Question: What happened to Tolstoy in 1870s?\n",
      "Anwser: profound moral crisis\n",
      "\n",
      "Question: What are Tolstoys works?\n",
      "Anwser: War and Peace' and 'Anna Karenina\n",
      "\n"
     ]
    }
   ],
   "source": [
    "predictor = Predictor.from_path('base_elmo')\n",
    "for q in questions:\n",
    "    a = predictor.predict(passage=passage, question=q)['best_span_str']\n",
    "    print(\"Question: {0}\\nAnwser: {1}\\n\".format(q, a))"
   ]
  },
  {
   "cell_type": "code",
   "execution_count": 97,
   "metadata": {},
   "outputs": [
    {
     "name": "stderr",
     "output_type": "stream",
     "text": [
      "WARNING:allennlp.models.archival:Archived file base_elmo_gru/fta/model.text_field_embedder.token_embedders.elmo.options_file not found! At train time this file was located at /home/aleksei.kopolov/.allennlp/cache/1b18dd09179ba1bd92d0f4aa8a4089152c7ec97f14abfbad7052a443c5695047.15c465f454169b1ddb0b7f0d48dca2484f5b3350e81e870a0c3a797233eaac66. This may be because you are loading a serialization directory. Attempting to load the file from its train-time location.\n",
      "WARNING:allennlp.models.archival:Archived file base_elmo_gru/fta/model.text_field_embedder.token_embedders.elmo.weight_file not found! At train time this file was located at /home/aleksei.kopolov/.allennlp/cache/c80e0cc2f7021815b01b9b2f47526804cedc186e3f2f1622b4537169ff759ce9.e6623c55f61b49e14a2ef0881ac5dbe85b2bfe9fb014760bc706855d4f7f48b7. This may be because you are loading a serialization directory. Attempting to load the file from its train-time location.\n"
     ]
    },
    {
     "name": "stdout",
     "output_type": "stream",
     "text": [
      "Question: What did Tolstoy won in 1904?\n",
      "Anwser: moral crisis\n",
      "\n",
      "Question: Who is Lev Tolstoy?\n",
      "Anwser: Russian writer\n",
      "\n",
      "Question: Who is the greatest Russian writer?\n",
      "Anwser: Count Lev Nikolayevich Tolstoy\n",
      "\n",
      "Question: What happened to Tolstoy in 1870s?\n",
      "Anwser: profound moral crisis\n",
      "\n",
      "Question: What are Tolstoys works?\n",
      "Anwser: Count Lev Nikolayevich Tolstoy, was a Russian writer who is regarded as one of the greatest authors of all time. He received multiple nominations for Nobel Prize in Literature every year from 1902 to 1906. In the 1870s Tolstoy experienced a profound moral crisis, followed by what he regarded as an 'equally profound spiritual awakening'. Tolstoy is best known for his two longest works, 'War and Peace' and 'Anna Karenina', which are commonly regarded as among the finest novels ever written. Among Tolstoy’s shorter works, 'The Death of Ivan Ilyich\n",
      "\n"
     ]
    }
   ],
   "source": [
    "predictor = Predictor.from_path('base_elmo_gru')\n",
    "for q in questions:\n",
    "    a = predictor.predict(passage=passage, question=q)['best_span_str']\n",
    "    print(\"Question: {0}\\nAnwser: {1}\\n\".format(q, a))"
   ]
  },
  {
   "cell_type": "code",
   "execution_count": null,
   "metadata": {},
   "outputs": [],
   "source": []
  }
 ],
 "metadata": {
  "kernelspec": {
   "display_name": "Python 3",
   "language": "python",
   "name": "python3"
  },
  "language_info": {
   "codemirror_mode": {
    "name": "ipython",
    "version": 3
   },
   "file_extension": ".py",
   "mimetype": "text/x-python",
   "name": "python",
   "nbconvert_exporter": "python",
   "pygments_lexer": "ipython3",
   "version": "3.6.8"
  }
 },
 "nbformat": 4,
 "nbformat_minor": 2
}
